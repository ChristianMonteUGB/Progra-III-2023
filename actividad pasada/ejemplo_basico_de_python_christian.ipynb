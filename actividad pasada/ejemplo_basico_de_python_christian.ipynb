{
  "cells": [
    {
      "cell_type": "markdown",
      "metadata": {
        "id": "view-in-github",
        "colab_type": "text"
      },
      "source": [
        "<a href=\"https://colab.research.google.com/github/ChristianMonteUGB/Progra-III-2023/blob/main/ejemplo_basico_de_python_christian.ipynb\" target=\"_parent\"><img src=\"https://colab.research.google.com/assets/colab-badge.svg\" alt=\"Open In Colab\"/></a>"
      ]
    },
    {
      "cell_type": "markdown",
      "source": [
        "Christian Alexander Montenegro Rodriguez"
      ],
      "metadata": {
        "id": "3ilN2SXzM5o7"
      }
    },
    {
      "cell_type": "code",
      "execution_count": null,
      "metadata": {
        "colab": {
          "base_uri": "https://localhost:8080/"
        },
        "id": "pSw3sG3rn9fW",
        "outputId": "bed29caa-912d-47ee-9689-9bdb621e0ed8"
      },
      "outputs": [
        {
          "name": "stdout",
          "output_type": "stream",
          "text": [
            "Como te llamas: christian\n",
            "Hola christian Tu letra inicial es:  c Tu nombre tiene:  9  caracteres\n"
          ]
        }
      ],
      "source": [
        "nombre = input(\"Como te llamas: \")\n",
        "print(\"Hola \"+nombre, \"Tu letra inicial es: \", nombre[0], \"Tu nombre tiene: \", nombre.__len__(), \" caracteres\" )"
      ]
    },
    {
      "cell_type": "code",
      "execution_count": null,
      "metadata": {
        "colab": {
          "base_uri": "https://localhost:8080/"
        },
        "id": "B6rVdLspMgpA",
        "outputId": "2e3f4f0b-d9b6-484b-a999-97cb53104a65"
      },
      "outputs": [
        {
          "name": "stdout",
          "output_type": "stream",
          "text": [
            "Hola christian montenegro\n"
          ]
        }
      ],
      "source": [
        "name=\"christian montenegro\"\n",
        "print(\"Hola \" + name)"
      ]
    },
    {
      "cell_type": "code",
      "execution_count": null,
      "metadata": {
        "colab": {
          "base_uri": "https://localhost:8080/"
        },
        "id": "KRx9Q1meNCXG",
        "outputId": "35fff46b-9400-49d7-a08b-e8f0e01cd1fc"
      },
      "outputs": [
        {
          "name": "stdout",
          "output_type": "stream",
          "text": [
            "la suma de  5  +  7.5  +  12.5\n"
          ]
        }
      ],
      "source": [
        "num1 = 5\n",
        "num2 = 7.5\n",
        "resp = num1 + num2\n",
        "print(\"la suma de \", num1, \" + \", num2, \" + \", resp)"
      ]
    },
    {
      "cell_type": "code",
      "execution_count": null,
      "metadata": {
        "colab": {
          "base_uri": "https://localhost:8080/"
        },
        "id": "ddyinvy9Nk_N",
        "outputId": "9582d2ab-1a7f-47aa-e4a3-b3a42ee92d73"
      },
      "outputs": [
        {
          "name": "stdout",
          "output_type": "stream",
          "text": [
            "Dime tu nombre: christian\n",
            "Tu edad 22\n",
            "Hola que tal christian, tu edad: 22\n"
          ]
        }
      ],
      "source": [
        "nombre = input(\"Dime tu nombre: \")\n",
        "edad = input(\"Tu edad \")\n",
        "saludo = \"Hola que tal \"+ nombre + \", tu edad: \"+ edad\n",
        "print(saludo)"
      ]
    },
    {
      "cell_type": "code",
      "execution_count": null,
      "metadata": {
        "colab": {
          "base_uri": "https://localhost:8080/"
        },
        "id": "XcR5TDJGOMv5",
        "outputId": "65a8e19a-692b-417a-be5d-6d1a0e70dae6"
      },
      "outputs": [
        {
          "name": "stdout",
          "output_type": "stream",
          "text": [
            "primer numero: 2\n",
            "segundo numero: 2\n",
            "la suma es,  4.0\n"
          ]
        }
      ],
      "source": [
        "num1 = float(input(\"primer numero: \"))\n",
        "num2 = float(input(\"segundo numero: \"))\n",
        "resp = num1 + num2\n",
        "print(\"la suma es, \", resp)\n"
      ]
    },
    {
      "cell_type": "markdown",
      "metadata": {
        "id": "HenIwwUOAsWt"
      },
      "source": [
        "**Funciones de usuario**\n",
        "\n",
        "-convertir grados celsius a farenheit"
      ]
    },
    {
      "cell_type": "code",
      "execution_count": null,
      "metadata": {
        "id": "pJVmZgiNBxQN"
      },
      "outputs": [],
      "source": [
        "def convertir(c):\n",
        "  return c*9/5 + 32"
      ]
    },
    {
      "cell_type": "code",
      "execution_count": null,
      "metadata": {
        "colab": {
          "base_uri": "https://localhost:8080/"
        },
        "id": "0RMlIM-QBdPy",
        "outputId": "ff604b8e-fdd4-4acf-d368-d5fffed7f051"
      },
      "outputs": [
        {
          "name": "stdout",
          "output_type": "stream",
          "text": [
            "celsius: 42\n",
            "f:  107.6\n"
          ]
        }
      ],
      "source": [
        "c = float(input(\"celsius: \"))\n",
        "print(\"f: \", convertir(c))"
      ]
    },
    {
      "cell_type": "markdown",
      "metadata": {
        "id": "O8YM4ZfWErVP"
      },
      "source": [
        "farenheit a celsius"
      ]
    },
    {
      "cell_type": "code",
      "execution_count": null,
      "metadata": {
        "id": "u2l5Wd62FIOF"
      },
      "outputs": [],
      "source": [
        "def convertir(f):\n",
        "  return (f-32) * 5/9"
      ]
    },
    {
      "cell_type": "code",
      "execution_count": null,
      "metadata": {
        "colab": {
          "base_uri": "https://localhost:8080/"
        },
        "id": "ZOH1ORFcEwfJ",
        "outputId": "ac1be414-97b1-4e95-d090-3051eb32528c"
      },
      "outputs": [
        {
          "name": "stdout",
          "output_type": "stream",
          "text": [
            "farenheit: 107.6\n",
            "c:  42.0\n"
          ]
        }
      ],
      "source": [
        "f = float(input(\"farenheit: \"))\n",
        "print(\"c: \", convertir(f))"
      ]
    },
    {
      "cell_type": "markdown",
      "metadata": {
        "id": "S549NLylGsb9"
      },
      "source": [
        "celsius a kelvin"
      ]
    },
    {
      "cell_type": "code",
      "execution_count": null,
      "metadata": {
        "id": "qJZ_6BbfGv2U"
      },
      "outputs": [],
      "source": [
        "def convertir(c):\n",
        "  return c + 273.15"
      ]
    },
    {
      "cell_type": "code",
      "execution_count": null,
      "metadata": {
        "colab": {
          "base_uri": "https://localhost:8080/"
        },
        "id": "6S-Sm8MuHAOm",
        "outputId": "1b3b8feb-1eb4-4850-9cea-7cd73348727e"
      },
      "outputs": [
        {
          "name": "stdout",
          "output_type": "stream",
          "text": [
            "celsius: 20\n",
            "k:  293.15\n"
          ]
        }
      ],
      "source": [
        "c = float(input(\"celsius: \"))\n",
        "print(\"k: \", convertir(c))"
      ]
    },
    {
      "cell_type": "markdown",
      "metadata": {
        "id": "-eW_vBXbHqC_"
      },
      "source": [
        "farenheit a kelvin"
      ]
    },
    {
      "cell_type": "code",
      "execution_count": null,
      "metadata": {
        "id": "w40pTg9nHtnd"
      },
      "outputs": [],
      "source": [
        "def convertir(f):\n",
        "  return (f - 32) * 5/9 + 273.15"
      ]
    },
    {
      "cell_type": "code",
      "execution_count": null,
      "metadata": {
        "colab": {
          "base_uri": "https://localhost:8080/"
        },
        "id": "Mip7JADeH3Eb",
        "outputId": "f2663620-34e6-4941-c16b-71b96bfd6e09"
      },
      "outputs": [
        {
          "name": "stdout",
          "output_type": "stream",
          "text": [
            "farenheit: 13\n",
            "k:  262.59444444444443\n"
          ]
        }
      ],
      "source": [
        "f = float(input(\"farenheit: \"))\n",
        "print(\"k: \", convertir(f))"
      ]
    },
    {
      "cell_type": "markdown",
      "metadata": {
        "id": "YSgfe02zKJkb"
      },
      "source": [
        "calcular el sueldo mensual de un empleado"
      ]
    },
    {
      "cell_type": "code",
      "execution_count": null,
      "metadata": {
        "id": "ZWM7eTRAKNlS"
      },
      "outputs": [],
      "source": [
        "def sueldo(numHrs, valorXhr):\n",
        "  sueldo = numHrs*valorXhr*30\n",
        "  if (numHrs>8):\n",
        "    sueldo += (numHrs-8)*valorXhr*2*30\n",
        "    #isss + afp = 3 + 6.25 = 9.25 = 100 - 9.25 = 90.75/100 = 0.9075\n",
        "  #sueldo = sueldo*0.9075\n",
        "  return sueldo"
      ]
    },
    {
      "cell_type": "code",
      "execution_count": null,
      "metadata": {
        "id": "TTgFQAudVQCt"
      },
      "outputs": [],
      "source": [
        "tabla_isr = [\n",
        "    [0.01, 472, 0, 0],\n",
        "    [475.01, 895.24, 0.1, 17.67],\n",
        "    [895.25, 2038.1, 0.2, 60.00],\n",
        "    [2038.11, 999999, 0.3, 288.57]\n",
        "]"
      ]
    },
    {
      "cell_type": "code",
      "execution_count": null,
      "metadata": {
        "id": "oA1DncNtXcU8"
      },
      "outputs": [],
      "source": [
        "def calcularIsr(sueldo, sueldoNeto):\n",
        "  impSr = 0\n",
        "  for tramo in tabla_isr:\n",
        "    if sueldo>tramo[0] and sueldo<=tramo[1]:\n",
        "      impSr (sueldoNeto-tramo[0])*tramo[2] + tramo[3]\n",
        "    return impSr"
      ]
    },
    {
      "cell_type": "code",
      "execution_count": null,
      "metadata": {
        "colab": {
          "base_uri": "https://localhost:8080/"
        },
        "id": "lGp_HrRrKt2J",
        "outputId": "4bdf3925-e9fb-4cca-bb85-53b1362b4596"
      },
      "outputs": [
        {
          "name": "stdout",
          "output_type": "stream",
          "text": [
            "Horas trabajadas: 8\n",
            "sueldo:  960.0 ISR:  0 871.1999999999999\n"
          ]
        }
      ],
      "source": [
        "valorXhr = 4\n",
        "#isss = 3%\n",
        "#afp = 6.25%\n",
        "numHrs = float(input(\"Horas trabajadas: \"))\n",
        "s= sueldo(numHrs, valorXhr)\n",
        "isr = calcularIsr(s, s*0.9075)\n",
        "print(\"sueldo: \", s, \"ISR: \", isr, s*0.9075-isr )"
      ]
    },
    {
      "cell_type": "markdown",
      "metadata": {
        "id": "mWt52cTUHrvk"
      },
      "source": [
        "**Listas y farenheit a celsius**"
      ]
    },
    {
      "cell_type": "code",
      "execution_count": null,
      "metadata": {
        "id": "JpT5IzD3HtT8"
      },
      "outputs": [],
      "source": [
        "data = [2,5,6,8,9]"
      ]
    },
    {
      "cell_type": "code",
      "execution_count": null,
      "metadata": {
        "colab": {
          "base_uri": "https://localhost:8080/"
        },
        "id": "7iHDSbMOH1TW",
        "outputId": "80574422-b2af-4c9e-8033-827acb2b67b3"
      },
      "outputs": [
        {
          "name": "stdout",
          "output_type": "stream",
          "text": [
            "[35.6, 41.0, 42.8, 46.4, 48.2]\n"
          ]
        }
      ],
      "source": [
        "resp= map(lambda n:n*9/5 + 32, data)\n",
        "print(list(resp))"
      ]
    },
    {
      "cell_type": "markdown",
      "metadata": {
        "id": "AT-WKno6KvML"
      },
      "source": [
        "filter y lambda"
      ]
    },
    {
      "cell_type": "code",
      "execution_count": null,
      "metadata": {
        "id": "gwvZWEMLKyOy"
      },
      "outputs": [],
      "source": [
        "data = [2,5,6,8,9]"
      ]
    },
    {
      "cell_type": "code",
      "execution_count": null,
      "metadata": {
        "colab": {
          "base_uri": "https://localhost:8080/"
        },
        "id": "KSs0Ia1OK0c6",
        "outputId": "0943fe38-b935-429e-8fd1-4ae9f98f53f7"
      },
      "outputs": [
        {
          "name": "stdout",
          "output_type": "stream",
          "text": [
            "[2, 6, 8]\n"
          ]
        }
      ],
      "source": [
        "resp= filter(lambda n:n %2 == 0, data)\n",
        "print(list(resp))"
      ]
    },
    {
      "cell_type": "code",
      "execution_count": null,
      "metadata": {
        "id": "QFVyNHjvM_LK"
      },
      "outputs": [],
      "source": [
        "data = [2,5,6,8,9]"
      ]
    },
    {
      "cell_type": "code",
      "execution_count": null,
      "metadata": {
        "colab": {
          "base_uri": "https://localhost:8080/"
        },
        "id": "XwOGJzvMNBDK",
        "outputId": "19a50457-7e62-4246-85d2-51ecba016afc"
      },
      "outputs": [
        {
          "name": "stdout",
          "output_type": "stream",
          "text": [
            "[5, 9]\n"
          ]
        }
      ],
      "source": [
        "inp= filter(lambda n:n %2 == 1, data)\n",
        "print(list(inp))"
      ]
    },
    {
      "cell_type": "markdown",
      "metadata": {
        "id": "rFPrIwDJOYVj"
      },
      "source": [
        "CICLOS\n",
        "-FOR"
      ]
    },
    {
      "cell_type": "code",
      "execution_count": null,
      "metadata": {
        "colab": {
          "base_uri": "https://localhost:8080/"
        },
        "id": "81uXrIvyOcMA",
        "outputId": "705dcdc1-722e-4a2b-8659-8cc6d920a38c"
      },
      "outputs": [
        {
          "name": "stdout",
          "output_type": "stream",
          "text": [
            "2\n",
            "5\n",
            "6\n",
            "8\n",
            "9\n"
          ]
        }
      ],
      "source": [
        "for item in data:\n",
        "  print(item)"
      ]
    },
    {
      "cell_type": "markdown",
      "metadata": {
        "id": "QEl-Jle-PAAw"
      },
      "source": [
        "CICLO\n",
        "\n",
        "-WHILE"
      ]
    },
    {
      "cell_type": "code",
      "execution_count": null,
      "metadata": {
        "colab": {
          "base_uri": "https://localhost:8080/"
        },
        "id": "wOLwR_LmPD3Z",
        "outputId": "3fd23166-6b81-4976-9bd8-d99a5c7b2c78"
      },
      "outputs": [
        {
          "name": "stdout",
          "output_type": "stream",
          "text": [
            "2\n",
            "5\n",
            "6\n",
            "8\n",
            "9\n"
          ]
        }
      ],
      "source": [
        "i=0\n",
        "n= len(data)\n",
        "while i<n:\n",
        "  print(data[i])\n",
        "  i+=1"
      ]
    },
    {
      "cell_type": "markdown",
      "metadata": {
        "id": "pxWGOXYqP1qv"
      },
      "source": [
        "TABAL DE MULTIPLICAR"
      ]
    },
    {
      "cell_type": "code",
      "execution_count": null,
      "metadata": {
        "colab": {
          "base_uri": "https://localhost:8080/"
        },
        "id": "zN61CDdYP354",
        "outputId": "4b35aef9-bd5d-45ca-c041-f00428a983eb"
      },
      "outputs": [
        {
          "name": "stdout",
          "output_type": "stream",
          "text": [
            "7 x 1 = 7\n",
            "7 x 2 = 14\n",
            "7 x 3 = 21\n",
            "7 x 4 = 28\n",
            "7 x 5 = 35\n",
            "7 x 6 = 42\n",
            "7 x 7 = 49\n",
            "7 x 8 = 56\n",
            "7 x 9 = 63\n",
            "7 x 10 = 70\n"
          ]
        }
      ],
      "source": [
        "for f in range (1,11):\n",
        "  print(f'7 x {f} = {7 * f}')"
      ]
    },
    {
      "cell_type": "markdown",
      "metadata": {
        "id": "gx6G7Z0qSYpg"
      },
      "source": [
        "Tabla de mutiplivar V2"
      ]
    },
    {
      "cell_type": "code",
      "execution_count": null,
      "metadata": {
        "colab": {
          "base_uri": "https://localhost:8080/"
        },
        "id": "zaCHueJqScm9",
        "outputId": "13fdcf3a-3723-4c43-da4f-d35ba62c4d3b"
      },
      "outputs": [
        {
          "name": "stdout",
          "output_type": "stream",
          "text": [
            "N Tabla: 2\n",
            "2 X 1 = 2\n",
            "2 X 2 = 4\n",
            "2 X 3 = 6\n",
            "2 X 4 = 8\n",
            "2 X 5 = 10\n",
            "2 X 6 = 12\n",
            "2 X 7 = 14\n",
            "2 X 8 = 16\n",
            "2 X 9 = 18\n",
            "2 X 10 = 20\n"
          ]
        }
      ],
      "source": [
        "n = int(input(\"N Tabla: \"))\n",
        "\n",
        "for i in range(1,11):\n",
        "  print(n, \"X\", i, \"=\", n*i)"
      ]
    },
    {
      "cell_type": "markdown",
      "metadata": {
        "id": "hTS8zfXgguhX"
      },
      "source": [
        "Ejercicios practicos/Conversores de monedas\n"
      ]
    },
    {
      "cell_type": "code",
      "execution_count": null,
      "metadata": {
        "colab": {
          "base_uri": "https://localhost:8080/"
        },
        "id": "ah2J4p0qqBg3",
        "outputId": "a53e6355-2798-449d-ae5c-1649d73a1efc"
      },
      "outputs": [
        {
          "output_type": "stream",
          "name": "stdout",
          "text": [
            "Monedas disponibles:\n",
            "usd\n",
            "mxn\n",
            "eur\n",
            "btc\n",
            "Quetzal\n",
            "ColonCosta\n",
            "Yen\n",
            "Arg\n",
            "Sol\n",
            "Rublo\n",
            "Moneda origen: mxn\n",
            "Moneda destino: arg\n",
            "Moneda destino: Arg\n",
            "Ingresa la cantidad de mxn: 300\n",
            "300.00 mxn equivale a 5059.44 Arg.\n"
          ]
        }
      ],
      "source": [
        "monedas_con_equivalencias = {\n",
        "    \"usd\": 1,\n",
        "    \"mxn\": 17.01,\n",
        "    \"eur\": 0.91,\n",
        "    \"btc\": 0.000088,\n",
        "    \"Quetzal\": 7.89,\n",
        "    \"ColonCosta\": 536.55,\n",
        "    \"Yen\": 144.91,\n",
        "    \"Arg\": 286.87,\n",
        "    \"Sol\": 3.66,\n",
        "    \"Rublo\": 100\n",
        "\n",
        "}\n",
        "print(\"Monedas disponibles:\")\n",
        "for moneda in monedas_con_equivalencias:\n",
        "    print(moneda)\n",
        "\n",
        "nombre_moneda_origen = \"\"\n",
        "nombre_moneda_destino = \"\"\n",
        "while nombre_moneda_origen not in monedas_con_equivalencias:\n",
        "    nombre_moneda_origen = input(\"Moneda origen: \")\n",
        "\n",
        "while nombre_moneda_destino not in monedas_con_equivalencias:\n",
        "    nombre_moneda_destino = input(\"Moneda destino: \")\n",
        "\n",
        "\n",
        "cantidad = float(input(f\"Ingresa la cantidad de {nombre_moneda_origen}: \"))\n",
        "equivalencia_origen = monedas_con_equivalencias[nombre_moneda_origen]\n",
        "equivalencia_destino = monedas_con_equivalencias[nombre_moneda_destino]\n",
        "equivalencia = (equivalencia_destino/equivalencia_origen)*cantidad\n",
        "print(f\"{cantidad:.2f} {nombre_moneda_origen} equivale a {equivalencia:.2f} {nombre_moneda_destino}.\")"
      ]
    },
    {
      "cell_type": "markdown",
      "metadata": {
        "id": "eMZEdWB3ssQv"
      },
      "source": [
        "Ejercios practicos/Longitud"
      ]
    },
    {
      "cell_type": "code",
      "execution_count": null,
      "metadata": {
        "id": "Xbw0xkXJty4P"
      },
      "outputs": [],
      "source": [
        "Longitudes = {\n",
        "    \"Centimetros\": 100,\n",
        "    \"Metros\": 1,\n",
        "    \"Pulgadas\": 39.3701,\n",
        "    \"Yardas\": 1.09361,\n",
        "    \"Pies\": 3.28084,\n",
        "    \"Milimetros\": 1000,\n",
        "    \"Kilometros\": 0.001,\n",
        "    \"Decimetros\": 10\n",
        "}"
      ]
    },
    {
      "cell_type": "code",
      "execution_count": null,
      "metadata": {
        "colab": {
          "base_uri": "https://localhost:8080/"
        },
        "id": "SP1RUeLitDzu",
        "outputId": "7a5995bb-5b17-4821-940f-256d88076974"
      },
      "outputs": [
        {
          "name": "stdout",
          "output_type": "stream",
          "text": [
            "Longitudes disponibles:\n",
            "Centimetros\n",
            "Metros\n",
            "Pulgadas\n",
            "Yardas\n",
            "Pies\n",
            "Milimetros\n",
            "Kilometros\n",
            "Decimetros\n",
            "Longitud 1: Metros\n",
            "Longitud 2: Centimetros\n",
            "Ingresa la cantidad de Metros: 1\n",
            "1.00 Metros equivale a 100.00 Centimetros.\n"
          ]
        }
      ],
      "source": [
        "print(\"Longitudes disponibles:\")\n",
        "for longitudes in Longitudes:\n",
        "    print(longitudes)\n",
        "\n",
        "nombre_de_longitud = \"\"\n",
        "nombre_longitud_a_convertir = \"\"\n",
        "while nombre_de_longitud not in Longitudes:\n",
        "    nombre_de_longitud = input(\"Longitud 1: \")\n",
        "\n",
        "while nombre_longitud_a_convertir not in Longitudes:\n",
        "    nombre_longitud_a_convertir = input(\"Longitud 2: \")\n",
        "\n",
        "\n",
        "cantidad = float(input(f\"Ingresa la cantidad de {nombre_de_longitud}: \"))\n",
        "equivalencia_origen = Longitudes[nombre_de_longitud]\n",
        "equivalencia_destino = Longitudes[nombre_longitud_a_convertir]\n",
        "equivalencia = (equivalencia_destino/equivalencia_origen)*cantidad\n",
        "print(f\"{cantidad:.2f} {nombre_de_longitud} equivale a {equivalencia:.2f} {nombre_longitud_a_convertir}.\")"
      ]
    },
    {
      "cell_type": "markdown",
      "metadata": {
        "id": "-ul-Xrpayd8k"
      },
      "source": [
        "Ejercicios practicos/Masas"
      ]
    },
    {
      "cell_type": "code",
      "execution_count": null,
      "metadata": {
        "id": "jhvq5L_ryoFL"
      },
      "outputs": [],
      "source": [
        "Masas = {\n",
        "    \"Gramo\": 1,\n",
        "    \"Decigramo\": 0.1,\n",
        "    \"Centigramo\": 0.01,\n",
        "    \"Miligramo\": 0.001,\n",
        "    \"Decagramo\": 10,\n",
        "    \"Hectogramo\": 100,\n",
        "    \"Kilogramo\": 1000\n",
        "}"
      ]
    },
    {
      "cell_type": "code",
      "execution_count": null,
      "metadata": {
        "colab": {
          "base_uri": "https://localhost:8080/"
        },
        "id": "U6fWHjoVzhG7",
        "outputId": "2dbe2d42-f626-44a1-db6b-d3ed2c766a39"
      },
      "outputs": [
        {
          "name": "stdout",
          "output_type": "stream",
          "text": [
            "Masas Disponibles:\n",
            "Gramo\n",
            "Decigramo\n",
            "Centigramo\n",
            "Miligramo\n",
            "Decagramo\n",
            "Hectogramo\n",
            "Kilogramo\n",
            "Masa 1: Gramo\n",
            "Masa 2: Kilogramo\n",
            "Ingresa la cantidad de Gramo: 1\n",
            "1.00 Gramo equivale a 1000.00 Kilogramo.\n"
          ]
        }
      ],
      "source": [
        "print(\"Masas Disponibles:\")\n",
        "for masas in Masas:\n",
        "    print(masas)\n",
        "\n",
        "nombre_de_masa = \"\"\n",
        "nombre_masa_a_convertir = \"\"\n",
        "while nombre_de_masa not in Masas:\n",
        "    nombre_de_masa = input(\"Masa 1: \")\n",
        "\n",
        "while nombre_masa_a_convertir not in Masas:\n",
        "    nombre_masa_a_convertir = input(\"Masa 2: \")\n",
        "\n",
        "\n",
        "cantidad = float(input(f\"Ingresa la cantidad de {nombre_de_masa}: \"))\n",
        "equivalencia_origen = Masas[nombre_de_masa]\n",
        "equivalencia_destino = Masas[nombre_masa_a_convertir]\n",
        "equivalencia = (equivalencia_destino/equivalencia_origen)*cantidad\n",
        "print(f\"{cantidad:.2f} {nombre_de_masa} equivale a {equivalencia:.2f} {nombre_masa_a_convertir}.\")"
      ]
    },
    {
      "cell_type": "markdown",
      "metadata": {
        "id": "xLYbg6wp2E8G"
      },
      "source": [
        "Ejercicios practicos/Almacenamiento"
      ]
    },
    {
      "cell_type": "code",
      "execution_count": null,
      "metadata": {
        "id": "B9TOc9PY3zTy"
      },
      "outputs": [],
      "source": [
        "def convertir(A):\n",
        "  return A / 1e+9"
      ]
    },
    {
      "cell_type": "code",
      "execution_count": null,
      "metadata": {
        "colab": {
          "base_uri": "https://localhost:8080/"
        },
        "id": "IIHTjyl-5G2_",
        "outputId": "54d929ae-d5ad-45fb-b060-867732a015d6"
      },
      "outputs": [
        {
          "name": "stdout",
          "output_type": "stream",
          "text": [
            "Bytes: 200000\n",
            "k:  0.0002\n"
          ]
        }
      ],
      "source": [
        "A = float(input(\"Bytes: \"))\n",
        "print(\"k: \", convertir(A))"
      ]
    },
    {
      "cell_type": "markdown",
      "metadata": {
        "id": "HEEp3q0g6Y3n"
      },
      "source": [
        "--------------------------------------"
      ]
    },
    {
      "cell_type": "code",
      "execution_count": null,
      "metadata": {
        "id": "CD1k87Lm6aL3"
      },
      "outputs": [],
      "source": [
        "Almacenamiento = {\n",
        "    \"B\": 1,\n",
        "    \"Kb\": 0.001,\n",
        "    \"Mb\": 1e-6,\n",
        "    \"Gb\": 1e-9,\n",
        "    \"Tb\": 1e-12,\n",
        "    \"Pb\": 1e-15,\n",
        "    \"Eb\": 1e+18,\n",
        "}"
      ]
    },
    {
      "cell_type": "code",
      "execution_count": null,
      "metadata": {
        "colab": {
          "base_uri": "https://localhost:8080/"
        },
        "id": "j45yLU8w7ln9",
        "outputId": "12da6632-291a-480c-e9a3-20bc56965b2b"
      },
      "outputs": [
        {
          "name": "stdout",
          "output_type": "stream",
          "text": [
            "Almacenamiento Disponibles:\n",
            "B\n",
            "Kb\n",
            "Mb\n",
            "Gb\n",
            "Tb\n",
            "Pb\n",
            "Eb\n",
            "almacenamiento 1: Tb\n",
            "almacenamiento 2: Pb\n",
            "Ingresa la cantidad de Tb: 10000\n",
            "10000.00 Tb equivale a 10.00 Pb.\n"
          ]
        }
      ],
      "source": [
        "print(\"Almacenamiento Disponibles:\")\n",
        "for almacenamiento in Almacenamiento:\n",
        "    print(almacenamiento)\n",
        "\n",
        "nombre_de_alma = \"\"\n",
        "nombre_alma_a_convertir = \"\"\n",
        "while nombre_de_alma not in Almacenamiento:\n",
        "    nombre_de_alma = input(\"almacenamiento 1: \")\n",
        "\n",
        "while nombre_alma_a_convertir not in Almacenamiento:\n",
        "    nombre_alma_a_convertir = input(\"almacenamiento 2: \")\n",
        "\n",
        "\n",
        "cantidad = float(input(f\"Ingresa la cantidad de {nombre_de_alma}: \"))\n",
        "equivalencia_origen = Almacenamiento[nombre_de_alma]\n",
        "equivalencia_destino = Almacenamiento[nombre_alma_a_convertir]\n",
        "equivalencia = (equivalencia_destino/equivalencia_origen)*cantidad\n",
        "print(f\"{cantidad:.2f} {nombre_de_alma} equivale a {equivalencia:.2f} {nombre_alma_a_convertir}.\")"
      ]
    },
    {
      "cell_type": "markdown",
      "source": [
        "Ejercicios practicos/Tiempo"
      ],
      "metadata": {
        "id": "UIkhfFozX8FM"
      }
    },
    {
      "cell_type": "code",
      "source": [
        "Tiempo = {\n",
        "    \"min\": 60,\n",
        "    \"hora\": 1,\n",
        "    \"Dia\": 1440,\n",
        "    \"semana\": 10080,\n",
        "    \"mes 30\": 43200,\n",
        "    \"mes 31\": 44640,\n",
        "}"
      ],
      "metadata": {
        "id": "RzYt961aYFYH"
      },
      "execution_count": null,
      "outputs": []
    },
    {
      "cell_type": "code",
      "source": [
        "print(\"Tiempo Disponible:\")\n",
        "for tiempo in Tiempo:\n",
        "    print(tiempo)\n",
        "\n",
        "nombre_de_tiempo = \"\"\n",
        "nombre_tiempo_a_convertir = \"\"\n",
        "while nombre_de_tiempo not in Tiempo:\n",
        "    nombre_de_tiempo = input(\"tiempo 1: \")\n",
        "\n",
        "while nombre_tiempo_a_convertir not in Tiempo:\n",
        "    nombre_tiempo_a_convertir = input(\"tiempo 2: \")\n",
        "\n",
        "\n",
        "cantidad = float(input(f\"Ingresa la cantidad de {nombre_de_tiempo}: \"))\n",
        "equivalencia_origen = Tiempo[nombre_de_tiempo]\n",
        "equivalencia_destino = Tiempo[nombre_tiempo_a_convertir]\n",
        "equivalencia = (equivalencia_destino/equivalencia_origen)*cantidad\n",
        "print(f\"{cantidad:.2f} {nombre_de_tiempo} equivale a {equivalencia:.2f} {nombre_tiempo_a_convertir}.\")"
      ],
      "metadata": {
        "colab": {
          "base_uri": "https://localhost:8080/"
        },
        "id": "7zUy_RJYYH51",
        "outputId": "c0360ec7-79cb-4271-c646-b9913654bb2e"
      },
      "execution_count": null,
      "outputs": [
        {
          "output_type": "stream",
          "name": "stdout",
          "text": [
            "Tiempo Disponible:\n",
            "min\n",
            "hora\n",
            "Dia\n",
            "semana\n",
            "mes 30\n",
            "mes 31\n",
            "tiempo 1: hora\n",
            "tiempo 2: min\n",
            "Ingresa la cantidad de hora: 30\n",
            "30.00 hora equivale a 1800.00 min.\n"
          ]
        }
      ]
    },
    {
      "cell_type": "markdown",
      "source": [
        "Ejercicios practicos/Volumen"
      ],
      "metadata": {
        "id": "yDbkNshpcT3m"
      }
    },
    {
      "cell_type": "code",
      "source": [
        "Volumen = {\n",
        "    \"litro\": 1,\n",
        "    \"ml\": 1000,\n",
        "    \"galon\": 0.219969,\n",
        "    \"taza\": 3.51951,\n",
        "    \"pinta\": 1.75975,\n",
        "    \"onza\": 35.1951,\n",
        "    \"cucharada\": 56.3121,\n",
        "    \"cucharadita\": 168.936,\n",
        "    \"PieCub\": 0.0353147,\n",
        "    \"pulgadaCub\": 61.0237,\n",
        "}"
      ],
      "metadata": {
        "id": "kW6QZuLAccY3"
      },
      "execution_count": null,
      "outputs": []
    },
    {
      "cell_type": "code",
      "source": [
        "print(\"Volumenes Disponible:\")\n",
        "for volumen in Volumen:\n",
        "    print(volumen)\n",
        "\n",
        "nombre_de_volumen = \"\"\n",
        "nombre_volumen_a_convertir = \"\"\n",
        "while nombre_de_volumen not in Volumen:\n",
        "    nombre_de_volumen = input(\"volumen 1: \")\n",
        "\n",
        "while nombre_volumen_a_convertir not in Volumen:\n",
        "    nombre_volumen_a_convertir = input(\"volumen 2: \")\n",
        "\n",
        "\n",
        "cantidad = float(input(f\"Ingresa la cantidad de {nombre_de_volumen}: \"))\n",
        "equivalencia_origen = Volumen[nombre_de_volumen]\n",
        "equivalencia_destino = Volumen[nombre_volumen_a_convertir]\n",
        "equivalencia = (equivalencia_destino/equivalencia_origen)*cantidad\n",
        "print(f\"{cantidad:.2f} {nombre_de_volumen} equivale a {equivalencia:.2f} {nombre_volumen_a_convertir}.\")"
      ],
      "metadata": {
        "colab": {
          "base_uri": "https://localhost:8080/"
        },
        "id": "rePiHxZtccuG",
        "outputId": "640118d5-c4b2-4242-a267-3524cb77bda2"
      },
      "execution_count": null,
      "outputs": [
        {
          "output_type": "stream",
          "name": "stdout",
          "text": [
            "Volumenes Disponible:\n",
            "litro\n",
            "ml\n",
            "galon\n",
            "taza\n",
            "pinta\n",
            "onza\n",
            "cucharada\n",
            "cucharadita\n",
            "PieCub\n",
            "pulgadaCub\n",
            "volumen 1: galon\n",
            "volumen 2: taza\n",
            "Ingresa la cantidad de galon: 3\n",
            "3.00 galon equivale a 48.00 taza.\n"
          ]
        }
      ]
    },
    {
      "cell_type": "markdown",
      "source": [
        "Ejercicios de practica/Area"
      ],
      "metadata": {
        "id": "GvJv3CGggP5f"
      }
    },
    {
      "cell_type": "code",
      "source": [
        "Area = {\n",
        "    \"m2\": 1,\n",
        "    \"km2\": 1e-6,\n",
        "    \"milla2\": 3.861e-7,\n",
        "    \"yarda2\": 1.19599,\n",
        "    \"pie2\": 10.7639,\n",
        "    \"pulg2\": 1550,\n",
        "    \"hec\": 1e-4,\n",
        "    \"acre\": 0.000247105,\n",
        "}"
      ],
      "metadata": {
        "id": "X-Ryy8aVgUoH"
      },
      "execution_count": null,
      "outputs": []
    },
    {
      "cell_type": "code",
      "source": [
        "print(\"Areas Disponible:\")\n",
        "for area in Area:\n",
        "    print(area)\n",
        "\n",
        "nombre_de_area = \"\"\n",
        "nombre_area_a_convertir = \"\"\n",
        "while nombre_de_area not in Area:\n",
        "    nombre_de_area = input(\"area 1: \")\n",
        "\n",
        "while nombre_area_a_convertir not in Area:\n",
        "    nombre_area_a_convertir = input(\"area 2: \")\n",
        "\n",
        "\n",
        "cantidad = float(input(f\"Ingresa la cantidad de {nombre_de_area}: \"))\n",
        "equivalencia_origen = Area[nombre_de_area]\n",
        "equivalencia_destino = Area[nombre_area_a_convertir]\n",
        "equivalencia = (equivalencia_destino/equivalencia_origen)*cantidad\n",
        "print(f\"{cantidad:.2f} {nombre_de_area} equivale a {equivalencia:.2f} {nombre_area_a_convertir}.\")"
      ],
      "metadata": {
        "colab": {
          "base_uri": "https://localhost:8080/"
        },
        "id": "pxnrKw18gU5_",
        "outputId": "27764b5e-4fea-4b23-ead8-7a834e2ddf02"
      },
      "execution_count": null,
      "outputs": [
        {
          "output_type": "stream",
          "name": "stdout",
          "text": [
            "Areas Disponible:\n",
            "m2\n",
            "km2\n",
            "milla2\n",
            "yarda2\n",
            "pie2\n",
            "pulg2\n",
            "hec\n",
            "acre\n",
            "area 1: m2\n",
            "area 2: yarda2\n",
            "Ingresa la cantidad de m2: 10\n",
            "10.00 m2 equivale a 11.96 yarda2.\n"
          ]
        }
      ]
    },
    {
      "cell_type": "markdown",
      "metadata": {
        "id": "dd0peOcaKPeS"
      },
      "source": [
        "Escribir un programa que pida la nota de un examen(0-10), e imprima por pantalla la calificaion en formato: \"suspenso\" si la nota es menor a 5, \"aprobado\" si es entre 5 inclusive, 7 sin incluir, \"notable\" si esta entre 7 inclusive 9 y sin incluir, \"Sobresaliente\" si estan entre 9 inclusive y 10 sin incluir, y \"Honorable\" si es 10"
      ]
    },
    {
      "cell_type": "code",
      "execution_count": null,
      "metadata": {
        "colab": {
          "background_save": true,
          "base_uri": "https://localhost:8080/"
        },
        "id": "gCoidTFOLKFc",
        "outputId": "9d66a9f5-1f2b-4fc6-dd1c-10551bc8bf18"
      },
      "outputs": [
        {
          "name": "stdout",
          "output_type": "stream",
          "text": [
            "El estudiante esta suspendido\n"
          ]
        }
      ],
      "source": [
        "nota = 0\n",
        "\n",
        "n=float(input(\"Ingrese nota a evaluar \"))\n",
        "if (nota < 0 or nota>10):\n",
        "  print(\"Nota invalida\")\n",
        "elif(nota<5):\n",
        "  print(\"El estudiante esta aprobado\")\n",
        "elif(nota<7):\n",
        "  print(\"El estudiante esta aprobado\")\n",
        "elif(nota<9):\n",
        "  print(\"El estudiante es notable\")\n",
        "else:\n",
        "  print(\"Es un estudiante honorable\")\n",
        "\n",
        "\n",
        "\n"
      ]
    },
    {
      "cell_type": "markdown",
      "source": [
        "Ejercicios de tarea"
      ],
      "metadata": {
        "id": "86TQuQM_j6Ap"
      }
    },
    {
      "cell_type": "markdown",
      "source": [
        "Escriba un programa que determine si una palabra introducida por el usuario es palindrome o no"
      ],
      "metadata": {
        "id": "LUUMof8rkICh"
      }
    },
    {
      "cell_type": "code",
      "source": [
        "palabra = input(\"Introduce una palabra: \")\n",
        "palabra = palabra.lower()\n",
        "\n",
        "palabra_reversa = palabra[::-1]\n",
        "\n",
        "if palabra == palabra_reversa:\n",
        "    print(f\"'{palabra}' es un palíndromo.\")\n",
        "else:\n",
        "    print(f\"'{palabra}' no es un palíndromo.\")"
      ],
      "metadata": {
        "id": "mSWlwpe7kQoh"
      },
      "execution_count": null,
      "outputs": []
    },
    {
      "cell_type": "markdown",
      "source": [
        "Escriba un programa que convierta un numero por el usuario a su equivalente en numeros romanos"
      ],
      "metadata": {
        "id": "OGH0lKbykTLR"
      }
    },
    {
      "cell_type": "code",
      "source": [
        "def romano(n):\n",
        "    mapa = {\n",
        "        1: \"I\",\n",
        "        4: \"IV\",\n",
        "        5: \"V\",\n",
        "        9: \"IX\",\n",
        "        10: \"X\",\n",
        "        40: \"XL\",\n",
        "        50: \"L\",\n",
        "        90: \"XC\",\n",
        "        100: \"C\",\n",
        "        400: \"CD\",\n",
        "        500: \"D\",\n",
        "        900: \"CM\",\n",
        "        1000: \"M\"\n",
        "    }\n",
        "\n",
        "    resultado = []\n",
        "\n",
        "    claves = sorted(mapa.keys(), reverse=True)\n",
        "\n",
        "    for clave in claves:\n",
        "        while n >= clave:\n",
        "            resultado.append(mapa[clave])\n",
        "            n -= clave\n",
        "\n",
        "    return \"\".join(resultado)\n",
        "\n",
        "try:\n",
        "    numero = int(input(\"Introduce un número para convertirlo a números romanos: \"))\n",
        "    if numero <= 0 or numero > 5000:\n",
        "        print(\"El número debe estar en el rango de 1 a 5000.\")\n",
        "    else:\n",
        "        romano = romano(numero)\n",
        "        print(f\"El número {numero} en números romanos es {romano}\")\n",
        "except ValueError:\n",
        "    print(\"Por favor, introduce un número válido.\")"
      ],
      "metadata": {
        "id": "eF2Pq6hmkYFh"
      },
      "execution_count": null,
      "outputs": []
    },
    {
      "cell_type": "markdown",
      "source": [
        "Escriba un programa que encuentre la media aritmetica de una serie de numeros introducidos por el usuario."
      ],
      "metadata": {
        "id": "Fxh_Bz97kmfJ"
      }
    },
    {
      "cell_type": "code",
      "source": [
        "numeros = int(input(\"¿Cuántos números deseas ingresar?: \"))\n",
        "suma = 0\n",
        "\n",
        "for i in range(numeros):\n",
        "  numero = float(input(f\"Ingrese el número {i+1}: \"))\n",
        "  suma += numero\n",
        "\n",
        "media = suma / numeros\n",
        "\n",
        "print(f\"La media aritmética de los {numeros} números es: {media}\")"
      ],
      "metadata": {
        "colab": {
          "base_uri": "https://localhost:8080/"
        },
        "id": "ApcV33NakoHB",
        "outputId": "f8a574ea-54ec-48ad-f825-1aa2d61b9bf1"
      },
      "execution_count": null,
      "outputs": [
        {
          "output_type": "stream",
          "name": "stdout",
          "text": [
            "¿Cuántos números deseas ingresar?: 4\n",
            "Ingrese el número 1: 2\n",
            "Ingrese el número 2: 7\n",
            "Ingrese el número 3: 13\n",
            "Ingrese el número 4: 0\n",
            "La media aritmética de los 4 números es: 5.5\n"
          ]
        }
      ]
    },
    {
      "cell_type": "markdown",
      "source": [
        "PARCIAL I\n",
        "ejercicio: 2.\tDesarrolle el conversor de Área (Superficie) haciendo uso de los diccionarios y las funciones de usuario en Python que contenga las siguientes opciones: (20%)\n",
        "\n",
        "a.\tPie Cuadrado\n",
        "b.\tVara Cuadrada\n",
        "c.\tYarda Cuadrada\n",
        "d.\tMetro Cuadrado\n",
        "e.\tTareas\n",
        "f.\tManzana\n",
        "g.\tHectárea"
      ],
      "metadata": {
        "id": "PTmXxVdrTEJG"
      }
    },
    {
      "cell_type": "code",
      "source": [
        "Areas = {\n",
        "    \"metro2\": 1,\n",
        "    \"pie2\": 10.7639,\n",
        "    \"vara2\": 0.698896,\n",
        "    \"yarda2\": 1.19599,\n",
        "    \"tareas\": 0.00159033,\n",
        "    \"manzana\": 6988.96,\n",
        "    \"hectarea\": 1e-4,\n",
        "}"
      ],
      "metadata": {
        "id": "PErBNJDQTHJv"
      },
      "execution_count": null,
      "outputs": []
    },
    {
      "cell_type": "code",
      "source": [
        "print(\"Elija un area:\")\n",
        "for areas in Areas:\n",
        "    print(areas)\n",
        "\n",
        "nombre_de_area = \"\"\n",
        "nombre_area_a_convertir = \"\"\n",
        "while nombre_de_area not in Areas:\n",
        "    nombre_de_area = input(\"area 1: \")\n",
        "\n",
        "while nombre_area_a_convertir not in Areas:\n",
        "    nombre_area_a_convertir = input(\"area 2: \")\n",
        "\n",
        "cantidad = float(input(f\"Ingresa la cantidad de {nombre_de_area}: \"))\n",
        "equivalencia_origen = Areas[nombre_de_area]\n",
        "equivalencia_destino = Areas[nombre_area_a_convertir]\n",
        "equivalencia = (equivalencia_destino/equivalencia_origen)*cantidad\n",
        "print(f\"{cantidad:.2f} {nombre_de_area} equivale a {equivalencia:.2f} {nombre_area_a_convertir}.\")"
      ],
      "metadata": {
        "colab": {
          "base_uri": "https://localhost:8080/"
        },
        "id": "b9woR2m1UWcn",
        "outputId": "02277cce-0fe1-48ff-9246-b51a6825aba4"
      },
      "execution_count": null,
      "outputs": [
        {
          "output_type": "stream",
          "name": "stdout",
          "text": [
            "Elija un area:\n",
            "metro2\n",
            "pie2\n",
            "vara2\n",
            "yarda2\n",
            "tareas\n",
            "manzana\n",
            "hectarea\n",
            "Ingresa la cantidad de metro2: 3000\n",
            "3000.00 metro2 equivale a 0.30 hectarea.\n"
          ]
        }
      ]
    }
  ],
  "metadata": {
    "colab": {
      "provenance": [],
      "authorship_tag": "ABX9TyN96JEFa74ZN1qzmX89z83a",
      "include_colab_link": true
    },
    "kernelspec": {
      "display_name": "Python 3",
      "name": "python3"
    },
    "language_info": {
      "name": "python"
    }
  },
  "nbformat": 4,
  "nbformat_minor": 0
}